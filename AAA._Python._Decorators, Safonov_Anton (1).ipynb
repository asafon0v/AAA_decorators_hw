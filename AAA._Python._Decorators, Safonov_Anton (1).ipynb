{
 "cells": [
  {
   "cell_type": "markdown",
   "id": "11a22a53",
   "metadata": {},
   "source": [
    "# Дектораторы\n",
    "\n",
    "В этом домашнем задании мы напишем собственные дектораторы, которые будут менять системные объекты. Но для начала мы с вами познакомимся с функцией `write`."
   ]
  },
  {
   "cell_type": "code",
   "execution_count": 46,
   "id": "2c2dc3b0",
   "metadata": {},
   "outputs": [
    {
     "name": "stdout",
     "output_type": "stream",
     "text": [
      "Hello, my friend!"
     ]
    },
    {
     "data": {
      "text/plain": [
       "17"
      ]
     },
     "execution_count": 46,
     "metadata": {},
     "output_type": "execute_result"
    }
   ],
   "source": [
    "import sys\n",
    "from datetime import datetime as dt\n",
    "from typing import Callable\n",
    "\n",
    "sys.stdout.write('Hello, my friend!')"
   ]
  },
  {
   "cell_type": "markdown",
   "id": "23c92635",
   "metadata": {},
   "source": [
    "Это метод объектов file-like классов, то есть классов, которые реализуют семантику \"Меня можно создать, из меня можно прочитать и в меня можно записать\".\n",
    "\n",
    "Самый главный пример такого объекта -- объект `file`, являющийся результатом вызова фукнции `open()`. Для простоты и универсальности взаимодействия, стандартный ввод и стандартный вывод тоже являются файлами, из которых можно читать и в которые можно писать. "
   ]
  },
  {
   "cell_type": "code",
   "execution_count": null,
   "id": "0ce62055",
   "metadata": {},
   "outputs": [],
   "source": [
    "output = open(\"./some_test_data.txt\", 'w')"
   ]
  },
  {
   "cell_type": "code",
   "execution_count": null,
   "id": "302f574f",
   "metadata": {},
   "outputs": [],
   "source": [
    "output.write('123')"
   ]
  },
  {
   "cell_type": "code",
   "execution_count": null,
   "id": "d08c53b4",
   "metadata": {},
   "outputs": [],
   "source": [
    "output.close()"
   ]
  },
  {
   "cell_type": "markdown",
   "id": "b3bcebad",
   "metadata": {},
   "source": [
    "Как вы могли заметить, функция возвращает число записанных байт. Это важная часть контракта, которую нужно поддержать, если вы хотите как-то подменять эту функцию."
   ]
  },
  {
   "cell_type": "markdown",
   "id": "23b94491",
   "metadata": {},
   "source": [
    "## Задача 1"
   ]
  },
  {
   "cell_type": "markdown",
   "id": "1eb22a2f",
   "metadata": {},
   "source": [
    "Для начала, давайте подменим метод `write` у объекта `sys.stdin` на такую функцию, которая перед каждым вызовом оригинальной функции записи данных в `stdout` допечатывает к тексту текущую метку времени."
   ]
  },
  {
   "cell_type": "code",
   "execution_count": 7,
   "id": "732073b9",
   "metadata": {},
   "outputs": [
    {
     "name": "stdout",
     "output_type": "stream",
     "text": [
      "[2022-12-09 18:52:26]: 1, 2, 3\n",
      "1, 2, 3\n"
     ]
    }
   ],
   "source": [
    "import sys\n",
    "from datetime import datetime as dt\n",
    "from typing import Union\n",
    "\n",
    "original_write = sys.stdout.write\n",
    "\n",
    "\n",
    "# Task 1\n",
    "\n",
    "def my_write(string_text: str) -> Union[str, int]:\n",
    "    \"\"\"\n",
    "    Дописывает к тексту текущие дату и время\n",
    "    \"\"\"\n",
    "    string_text_with_time = f'{dt.now().strftime(\"[%Y-%m-%d %H:%M:%S]:\")} {string_text}'\n",
    "\n",
    "    if string_text == '\\n':\n",
    "        return original_write('\\n')\n",
    "    else:\n",
    "        return original_write(string_text_with_time)\n",
    "\n",
    "\n",
    "if __name__ == '__main__':\n",
    "    sys.stdout.write = my_write\n",
    "    print('1, 2, 3')\n",
    "    sys.stdout.write = original_write\n",
    "    print('1, 2, 3')"
   ]
  },
  {
   "cell_type": "code",
   "execution_count": null,
   "id": "d8f650f6",
   "metadata": {},
   "outputs": [],
   "source": []
  },
  {
   "cell_type": "code",
   "execution_count": null,
   "id": "37617332",
   "metadata": {},
   "outputs": [],
   "source": []
  },
  {
   "cell_type": "code",
   "execution_count": null,
   "id": "163ad5c0",
   "metadata": {},
   "outputs": [],
   "source": []
  },
  {
   "cell_type": "code",
   "execution_count": null,
   "id": "71500515",
   "metadata": {},
   "outputs": [],
   "source": []
  },
  {
   "cell_type": "markdown",
   "id": "3c5e22b6",
   "metadata": {},
   "source": [
    "Вывод должен был бы быть примерно таким:"
   ]
  },
  {
   "cell_type": "markdown",
   "id": "e62d012d",
   "metadata": {},
   "source": [
    "```\n",
    "[2021-12-05 12:00:00]: 1, 2, 3\n",
    "```"
   ]
  },
  {
   "cell_type": "markdown",
   "id": "903fcee1",
   "metadata": {},
   "source": [
    "## Задача 2\n",
    "\n",
    "Упакуйте только что написанный код в декторатор. Весь вывод фукнции должен быть помечен временными метками так, как видно выше."
   ]
  },
  {
   "cell_type": "code",
   "execution_count": 6,
   "id": "5804423b",
   "metadata": {},
   "outputs": [
    {
     "name": "stdout",
     "output_type": "stream",
     "text": [
      "22\n",
      "[2022-12-09 18:52:21]: Hello, Nikita!\n"
     ]
    }
   ],
   "source": [
    "import sys\n",
    "from typing import Callable\n",
    "# from decorators_hw_task_1 import my_write, original_write\n",
    "\n",
    "\n",
    "# Task 2\n",
    "\n",
    "def timed_output(function: Callable) -> Callable:\n",
    "    def wrapper(*args, **kwargs):\n",
    "        sys.stdout.write = my_write\n",
    "        function_res = function(*args, **kwargs)\n",
    "        sys.stdout.write = original_write\n",
    "\n",
    "        return function_res\n",
    "\n",
    "    return wrapper\n",
    "\n",
    "\n",
    "@timed_output\n",
    "def s(*args, **kwargs):\n",
    "    return 22\n",
    "\n",
    "\n",
    "@timed_output\n",
    "def print_greeting(name):\n",
    "    print(f'Hello, {name}!')\n",
    "\n",
    "\n",
    "if __name__ == '__main__':\n",
    "    print(s(1, 2, 3, \"aaa\", True, name=11))\n",
    "    print_greeting(\"Nikita\")"
   ]
  },
  {
   "cell_type": "code",
   "execution_count": null,
   "id": "f43373a5",
   "metadata": {},
   "outputs": [],
   "source": []
  },
  {
   "cell_type": "code",
   "execution_count": null,
   "id": "6a2283db",
   "metadata": {},
   "outputs": [],
   "source": []
  },
  {
   "cell_type": "markdown",
   "id": "37fad5fd",
   "metadata": {},
   "source": [
    "Вывод должен быть похож на следующий:\n",
    "\n",
    "```\n",
    "[2021-12-05 12:00:00]: Hello, Nikita!\n",
    "```"
   ]
  },
  {
   "cell_type": "markdown",
   "id": "8a3aee6d",
   "metadata": {},
   "source": [
    "## Задача 3\n",
    "\n",
    "Напишите декторатор, который будет перенаправлять вывод фукнции в файл. \n",
    "\n",
    "Подсказка: вы можете заменить объект sys.stdout каким-нибудь другим объектом."
   ]
  },
  {
   "cell_type": "code",
   "execution_count": 5,
   "id": "de733186",
   "metadata": {},
   "outputs": [
    {
     "name": "stdout",
     "output_type": "stream",
     "text": [
      "1 2 3 4 5 6 7 8 9 10 11 12 13 14 15 16 17 18 19 \n",
      "1 4 9 16 25 36 49 64 81 100 121 144 169 196 225 256 289 324 361 \n",
      "1 8 27 64 125 216 343 512 729 1000 1331 1728 2197 2744 3375 4096 4913 5832 6859 \n",
      "1 16 81 256 625 1296 2401 4096 6561 10000 14641 20736 28561 38416 50625 65536 83521 104976 130321 \n",
      "\n",
      "279936\n",
      "\n"
     ]
    }
   ],
   "source": [
    "import sys\n",
    "from typing import Callable\n",
    "\n",
    "\n",
    "# Task 3\n",
    "def redirect_output(filepath: str) -> Callable:\n",
    "    def wrapper_1(func: Callable) -> Callable:\n",
    "        def wrapper_2(*args, **kwargs):\n",
    "            with open(filepath, 'w') as file:\n",
    "                original_stdout = sys.stdout\n",
    "                sys.stdout = file\n",
    "                func(*args, **kwargs)\n",
    "                sys.stdout = original_stdout\n",
    "\n",
    "        return wrapper_2\n",
    "\n",
    "    return wrapper_1\n",
    "\n",
    "\n",
    "@redirect_output('./function_output.txt')\n",
    "def calculate():\n",
    "    for power in range(1, 5):\n",
    "        for num in range(1, 20):\n",
    "            print(num ** power, end=' ')\n",
    "        print()\n",
    "\n",
    "\n",
    "@redirect_output('./function_output_2.txt')\n",
    "def some_other_function(*args, **kwargs):\n",
    "    res1 = sum(args)\n",
    "    res2 = 7\n",
    "    print(res1 ** res2)\n",
    "\n",
    "\n",
    "if __name__ == '__main__':\n",
    "    calculate()\n",
    "    with open('./function_output.txt', 'r') as ffile:\n",
    "        print(ffile.read())\n",
    "    some_other_function(1, 2, 3, x=\"AAA\")\n",
    "    with open('./function_output_2.txt', 'r') as ffile:\n",
    "        print(ffile.read())"
   ]
  },
  {
   "cell_type": "code",
   "execution_count": null,
   "id": "37e01742",
   "metadata": {},
   "outputs": [],
   "source": []
  },
  {
   "cell_type": "code",
   "execution_count": null,
   "id": "e892f124",
   "metadata": {},
   "outputs": [],
   "source": []
  },
  {
   "cell_type": "code",
   "execution_count": null,
   "id": "ac06c89e",
   "metadata": {},
   "outputs": [],
   "source": []
  },
  {
   "cell_type": "code",
   "execution_count": null,
   "id": "1dcf9ba1",
   "metadata": {},
   "outputs": [],
   "source": []
  }
 ],
 "metadata": {
  "kernelspec": {
   "display_name": "Python 3 (ipykernel)",
   "language": "python",
   "name": "python3"
  },
  "language_info": {
   "codemirror_mode": {
    "name": "ipython",
    "version": 3
   },
   "file_extension": ".py",
   "mimetype": "text/x-python",
   "name": "python",
   "nbconvert_exporter": "python",
   "pygments_lexer": "ipython3",
   "version": "3.9.12"
  }
 },
 "nbformat": 4,
 "nbformat_minor": 5
}
